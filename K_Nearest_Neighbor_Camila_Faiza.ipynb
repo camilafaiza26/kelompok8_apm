{
  "nbformat": 4,
  "nbformat_minor": 0,
  "metadata": {
    "colab": {
      "name": "K-Nearest Neighbor_Camila Faiza.ipynb",
      "provenance": [],
      "authorship_tag": "ABX9TyP1DHFmQptfWa92ZATib1Nc",
      "include_colab_link": true
    },
    "kernelspec": {
      "name": "python3",
      "display_name": "Python 3"
    },
    "language_info": {
      "name": "python"
    }
  },
  "cells": [
    {
      "cell_type": "markdown",
      "metadata": {
        "id": "view-in-github",
        "colab_type": "text"
      },
      "source": [
        "<a href=\"https://colab.research.google.com/github/camilafaiza26/kelompok8_apm/blob/main/K_Nearest_Neighbor_Camila_Faiza.ipynb\" target=\"_parent\"><img src=\"https://colab.research.google.com/assets/colab-badge.svg\" alt=\"Open In Colab\"/></a>"
      ]
    },
    {
      "cell_type": "code",
      "execution_count": 6,
      "metadata": {
        "id": "iDHcR5l0CiiL"
      },
      "outputs": [],
      "source": [
        "#K-Nearest Neighbor\n",
        "#import library\n",
        "import numpy as np\n",
        "import matplotlib.pyplot as plt\n",
        "import pandas as pd\n",
        "import numpy as np\n",
        "from sklearn import preprocessing\n",
        "%matplotlib inline"
      ]
    },
    {
      "cell_type": "code",
      "source": [
        "#Input Dataset\n",
        "df = pd.read_csv('teleCust1000t.csv')\n",
        "df.head()"
      ],
      "metadata": {
        "colab": {
          "base_uri": "https://localhost:8080/",
          "height": 206
        },
        "id": "oVElBrVWLJmm",
        "outputId": "3836d673-e08e-41aa-8cdf-90dfc09dacd1"
      },
      "execution_count": 9,
      "outputs": [
        {
          "output_type": "execute_result",
          "data": {
            "text/plain": [
              "   region  tenure  age  marital  address  income  ed  employ  retire  gender  \\\n",
              "0       2      13   44        1        9    64.0   4       5     0.0       0   \n",
              "1       3      11   33        1        7   136.0   5       5     0.0       0   \n",
              "2       3      68   52        1       24   116.0   1      29     0.0       1   \n",
              "3       2      33   33        0       12    33.0   2       0     0.0       1   \n",
              "4       2      23   30        1        9    30.0   1       2     0.0       0   \n",
              "\n",
              "   reside  custcat  \n",
              "0       2        1  \n",
              "1       6        4  \n",
              "2       2        3  \n",
              "3       1        1  \n",
              "4       4        3  "
            ],
            "text/html": [
              "\n",
              "  <div id=\"df-5a9293b0-ba37-44b9-ad31-f7ee2fd48144\">\n",
              "    <div class=\"colab-df-container\">\n",
              "      <div>\n",
              "<style scoped>\n",
              "    .dataframe tbody tr th:only-of-type {\n",
              "        vertical-align: middle;\n",
              "    }\n",
              "\n",
              "    .dataframe tbody tr th {\n",
              "        vertical-align: top;\n",
              "    }\n",
              "\n",
              "    .dataframe thead th {\n",
              "        text-align: right;\n",
              "    }\n",
              "</style>\n",
              "<table border=\"1\" class=\"dataframe\">\n",
              "  <thead>\n",
              "    <tr style=\"text-align: right;\">\n",
              "      <th></th>\n",
              "      <th>region</th>\n",
              "      <th>tenure</th>\n",
              "      <th>age</th>\n",
              "      <th>marital</th>\n",
              "      <th>address</th>\n",
              "      <th>income</th>\n",
              "      <th>ed</th>\n",
              "      <th>employ</th>\n",
              "      <th>retire</th>\n",
              "      <th>gender</th>\n",
              "      <th>reside</th>\n",
              "      <th>custcat</th>\n",
              "    </tr>\n",
              "  </thead>\n",
              "  <tbody>\n",
              "    <tr>\n",
              "      <th>0</th>\n",
              "      <td>2</td>\n",
              "      <td>13</td>\n",
              "      <td>44</td>\n",
              "      <td>1</td>\n",
              "      <td>9</td>\n",
              "      <td>64.0</td>\n",
              "      <td>4</td>\n",
              "      <td>5</td>\n",
              "      <td>0.0</td>\n",
              "      <td>0</td>\n",
              "      <td>2</td>\n",
              "      <td>1</td>\n",
              "    </tr>\n",
              "    <tr>\n",
              "      <th>1</th>\n",
              "      <td>3</td>\n",
              "      <td>11</td>\n",
              "      <td>33</td>\n",
              "      <td>1</td>\n",
              "      <td>7</td>\n",
              "      <td>136.0</td>\n",
              "      <td>5</td>\n",
              "      <td>5</td>\n",
              "      <td>0.0</td>\n",
              "      <td>0</td>\n",
              "      <td>6</td>\n",
              "      <td>4</td>\n",
              "    </tr>\n",
              "    <tr>\n",
              "      <th>2</th>\n",
              "      <td>3</td>\n",
              "      <td>68</td>\n",
              "      <td>52</td>\n",
              "      <td>1</td>\n",
              "      <td>24</td>\n",
              "      <td>116.0</td>\n",
              "      <td>1</td>\n",
              "      <td>29</td>\n",
              "      <td>0.0</td>\n",
              "      <td>1</td>\n",
              "      <td>2</td>\n",
              "      <td>3</td>\n",
              "    </tr>\n",
              "    <tr>\n",
              "      <th>3</th>\n",
              "      <td>2</td>\n",
              "      <td>33</td>\n",
              "      <td>33</td>\n",
              "      <td>0</td>\n",
              "      <td>12</td>\n",
              "      <td>33.0</td>\n",
              "      <td>2</td>\n",
              "      <td>0</td>\n",
              "      <td>0.0</td>\n",
              "      <td>1</td>\n",
              "      <td>1</td>\n",
              "      <td>1</td>\n",
              "    </tr>\n",
              "    <tr>\n",
              "      <th>4</th>\n",
              "      <td>2</td>\n",
              "      <td>23</td>\n",
              "      <td>30</td>\n",
              "      <td>1</td>\n",
              "      <td>9</td>\n",
              "      <td>30.0</td>\n",
              "      <td>1</td>\n",
              "      <td>2</td>\n",
              "      <td>0.0</td>\n",
              "      <td>0</td>\n",
              "      <td>4</td>\n",
              "      <td>3</td>\n",
              "    </tr>\n",
              "  </tbody>\n",
              "</table>\n",
              "</div>\n",
              "      <button class=\"colab-df-convert\" onclick=\"convertToInteractive('df-5a9293b0-ba37-44b9-ad31-f7ee2fd48144')\"\n",
              "              title=\"Convert this dataframe to an interactive table.\"\n",
              "              style=\"display:none;\">\n",
              "        \n",
              "  <svg xmlns=\"http://www.w3.org/2000/svg\" height=\"24px\"viewBox=\"0 0 24 24\"\n",
              "       width=\"24px\">\n",
              "    <path d=\"M0 0h24v24H0V0z\" fill=\"none\"/>\n",
              "    <path d=\"M18.56 5.44l.94 2.06.94-2.06 2.06-.94-2.06-.94-.94-2.06-.94 2.06-2.06.94zm-11 1L8.5 8.5l.94-2.06 2.06-.94-2.06-.94L8.5 2.5l-.94 2.06-2.06.94zm10 10l.94 2.06.94-2.06 2.06-.94-2.06-.94-.94-2.06-.94 2.06-2.06.94z\"/><path d=\"M17.41 7.96l-1.37-1.37c-.4-.4-.92-.59-1.43-.59-.52 0-1.04.2-1.43.59L10.3 9.45l-7.72 7.72c-.78.78-.78 2.05 0 2.83L4 21.41c.39.39.9.59 1.41.59.51 0 1.02-.2 1.41-.59l7.78-7.78 2.81-2.81c.8-.78.8-2.07 0-2.86zM5.41 20L4 18.59l7.72-7.72 1.47 1.35L5.41 20z\"/>\n",
              "  </svg>\n",
              "      </button>\n",
              "      \n",
              "  <style>\n",
              "    .colab-df-container {\n",
              "      display:flex;\n",
              "      flex-wrap:wrap;\n",
              "      gap: 12px;\n",
              "    }\n",
              "\n",
              "    .colab-df-convert {\n",
              "      background-color: #E8F0FE;\n",
              "      border: none;\n",
              "      border-radius: 50%;\n",
              "      cursor: pointer;\n",
              "      display: none;\n",
              "      fill: #1967D2;\n",
              "      height: 32px;\n",
              "      padding: 0 0 0 0;\n",
              "      width: 32px;\n",
              "    }\n",
              "\n",
              "    .colab-df-convert:hover {\n",
              "      background-color: #E2EBFA;\n",
              "      box-shadow: 0px 1px 2px rgba(60, 64, 67, 0.3), 0px 1px 3px 1px rgba(60, 64, 67, 0.15);\n",
              "      fill: #174EA6;\n",
              "    }\n",
              "\n",
              "    [theme=dark] .colab-df-convert {\n",
              "      background-color: #3B4455;\n",
              "      fill: #D2E3FC;\n",
              "    }\n",
              "\n",
              "    [theme=dark] .colab-df-convert:hover {\n",
              "      background-color: #434B5C;\n",
              "      box-shadow: 0px 1px 3px 1px rgba(0, 0, 0, 0.15);\n",
              "      filter: drop-shadow(0px 1px 2px rgba(0, 0, 0, 0.3));\n",
              "      fill: #FFFFFF;\n",
              "    }\n",
              "  </style>\n",
              "\n",
              "      <script>\n",
              "        const buttonEl =\n",
              "          document.querySelector('#df-5a9293b0-ba37-44b9-ad31-f7ee2fd48144 button.colab-df-convert');\n",
              "        buttonEl.style.display =\n",
              "          google.colab.kernel.accessAllowed ? 'block' : 'none';\n",
              "\n",
              "        async function convertToInteractive(key) {\n",
              "          const element = document.querySelector('#df-5a9293b0-ba37-44b9-ad31-f7ee2fd48144');\n",
              "          const dataTable =\n",
              "            await google.colab.kernel.invokeFunction('convertToInteractive',\n",
              "                                                     [key], {});\n",
              "          if (!dataTable) return;\n",
              "\n",
              "          const docLinkHtml = 'Like what you see? Visit the ' +\n",
              "            '<a target=\"_blank\" href=https://colab.research.google.com/notebooks/data_table.ipynb>data table notebook</a>'\n",
              "            + ' to learn more about interactive tables.';\n",
              "          element.innerHTML = '';\n",
              "          dataTable['output_type'] = 'display_data';\n",
              "          await google.colab.output.renderOutput(dataTable, element);\n",
              "          const docLink = document.createElement('div');\n",
              "          docLink.innerHTML = docLinkHtml;\n",
              "          element.appendChild(docLink);\n",
              "        }\n",
              "      </script>\n",
              "    </div>\n",
              "  </div>\n",
              "  "
            ]
          },
          "metadata": {},
          "execution_count": 9
        }
      ]
    },
    {
      "cell_type": "code",
      "source": [
        "# #menentukan variabel independen (feature)\n",
        "x = df.drop([\"custcat\"], axis=1)\n",
        "\n",
        "# #menentukan variabel dependen (class)\n",
        "y = df[\"custcat\"]"
      ],
      "metadata": {
        "id": "vkTgiluoLqXF"
      },
      "execution_count": 28,
      "outputs": []
    },
    {
      "cell_type": "code",
      "source": [
        "# membagi dataset menjadi data train dan data test\n",
        "\n",
        "# import package model selection dari Sklearn train_test_split untuk membagi data\n",
        "from sklearn.model_selection import train_test_split\n",
        "\n",
        "# membagi data dengan perbandingan data train dan data test 80%:20%\n",
        "x_train, x_test, y_train, y_test = train_test_split(x, y, test_size=0.2)"
      ],
      "metadata": {
        "id": "jd1E4UR1NEjA"
      },
      "execution_count": 29,
      "outputs": []
    },
    {
      "cell_type": "code",
      "source": [
        "# lakukan standarisasi \n",
        "# (penskalaan pada data, karena range nilai data antar data feature terlalu jauh)\n",
        "\n",
        "#mengaktifkan package sklearn.preprocessing untuk membantu melakukan standarisasi data\n",
        "from sklearn.preprocessing import StandardScaler\n",
        "\n",
        "#membuat objek standarisasi\n",
        "standard_scaler = StandardScaler()\n",
        "\n",
        "# fit digunakan untuk menghitung nilai rataan dan standar deviasi untuk digunakan saat proses scaling.\n",
        "# transform untuk menerapkan nilai fit pada data\n",
        "standard_scaler.fit(x_train)  # melakukan perhitungan nilai rataan dan standar deviasi pada data x_train\n",
        "\n",
        "#menerapkan nilai rataan dan standar deviasi untuk penskalaan data x_train dan x_test\n",
        "x_train = standard_scaler.transform(x_train)\n",
        "x_test = standard_scaler.transform(x_test)"
      ],
      "metadata": {
        "id": "F1yhO41VNFjP"
      },
      "execution_count": 30,
      "outputs": []
    },
    {
      "cell_type": "code",
      "source": [
        "# K-Nearest Neighbor(KNN) untuk classifier data\n",
        "\n",
        "# import library\n",
        "from sklearn.neighbors import KNeighborsClassifier\n",
        "\n",
        "#membuat objek fungsi kalsifikasi untuk KNN\n",
        "#mengklasifikasikan x training dan y training menjadi 4, sehingga terdapat syntax n_neighbors=4\n",
        "knn = KNeighborsClassifier(n_neighbors=15)\n",
        "#memasukkan data train pada objek fungsi klasifikasi KNN\n",
        "knn.fit(x_train, y_train)"
      ],
      "metadata": {
        "colab": {
          "base_uri": "https://localhost:8080/"
        },
        "id": "hSqilIMWNJgx",
        "outputId": "61a8c6a2-a796-4110-d6c0-5e578c7e2891"
      },
      "execution_count": 31,
      "outputs": [
        {
          "output_type": "execute_result",
          "data": {
            "text/plain": [
              "KNeighborsClassifier(n_neighbors=15)"
            ]
          },
          "metadata": {},
          "execution_count": 31
        }
      ]
    },
    {
      "cell_type": "code",
      "source": [
        "# Menentukan prediksi KKN dari data test (data aktual)\n",
        "y_predict = knn.predict(x_test)\n",
        "y_predict"
      ],
      "metadata": {
        "colab": {
          "base_uri": "https://localhost:8080/"
        },
        "id": "zxwecivlNOc5",
        "outputId": "725bc1aa-8ee9-4800-d0d8-270a9090b94a"
      },
      "execution_count": 32,
      "outputs": [
        {
          "output_type": "execute_result",
          "data": {
            "text/plain": [
              "array([1, 1, 1, 2, 3, 2, 2, 2, 2, 1, 1, 2, 1, 2, 1, 1, 1, 3, 1, 2, 1, 2,\n",
              "       1, 1, 1, 1, 2, 4, 1, 1, 1, 2, 1, 1, 2, 2, 3, 3, 1, 1, 4, 1, 1, 1,\n",
              "       2, 4, 3, 3, 2, 4, 2, 4, 3, 3, 3, 4, 1, 4, 1, 3, 1, 1, 3, 1, 1, 1,\n",
              "       3, 3, 3, 4, 1, 3, 4, 3, 3, 1, 1, 2, 4, 3, 4, 1, 1, 1, 1, 2, 1, 1,\n",
              "       4, 3, 4, 2, 4, 1, 1, 1, 3, 1, 2, 2, 4, 3, 1, 3, 1, 1, 3, 4, 1, 4,\n",
              "       3, 2, 1, 3, 1, 1, 1, 4, 1, 1, 3, 4, 2, 3, 1, 3, 3, 3, 1, 1, 1, 2,\n",
              "       2, 4, 3, 1, 2, 1, 3, 4, 3, 4, 2, 2, 1, 3, 3, 2, 1, 1, 1, 2, 4, 3,\n",
              "       1, 1, 2, 4, 1, 2, 1, 1, 1, 4, 2, 2, 1, 2, 3, 2, 3, 4, 2, 2, 1, 1,\n",
              "       3, 3, 1, 1, 1, 3, 1, 2, 1, 1, 1, 1, 3, 1, 3, 1, 1, 3, 4, 2, 1, 1,\n",
              "       2, 1])"
            ]
          },
          "metadata": {},
          "execution_count": 32
        }
      ]
    },
    {
      "cell_type": "code",
      "source": [
        "# melihat akurasi data hasil prediksi dengan data aktual\n",
        "# classification_report digunakan untuk membuat report ttg metriks kalsifikasi\n",
        "# confusion_matrix merupakan matriks untuk menghitung akurasi dari nilai prediksi dan aktual\n",
        "from sklearn.metrics import classification_report, confusion_matrix\n",
        "from sklearn import metrics #untuk perhitungan akurasi model\n",
        "\n",
        "#menampilkan matriks hasil prediksi\n",
        "print(confusion_matrix(y_test, y_predict))\n",
        "\n",
        "#menampilkan report akurasi hasil prediksi\n",
        "print(classification_report(y_test, y_predict))\n",
        "\n",
        "#membuat summary akurasi model\n",
        "print(\"Accuracy:\",metrics.accuracy_score(y_test, y_predict))"
      ],
      "metadata": {
        "colab": {
          "base_uri": "https://localhost:8080/"
        },
        "id": "ubafEST5LvqP",
        "outputId": "c8e42438-91d8-493a-e336-1d825e3d9658"
      },
      "execution_count": 33,
      "outputs": [
        {
          "output_type": "stream",
          "name": "stdout",
          "text": [
            "[[30  5 12  6]\n",
            " [ 9 10  9 10]\n",
            " [28 15 14  3]\n",
            " [21 11  9  8]]\n",
            "              precision    recall  f1-score   support\n",
            "\n",
            "           1       0.34      0.57      0.43        53\n",
            "           2       0.24      0.26      0.25        38\n",
            "           3       0.32      0.23      0.27        60\n",
            "           4       0.30      0.16      0.21        49\n",
            "\n",
            "    accuracy                           0.31       200\n",
            "   macro avg       0.30      0.31      0.29       200\n",
            "weighted avg       0.30      0.31      0.29       200\n",
            "\n",
            "Accuracy: 0.31\n"
          ]
        }
      ]
    },
    {
      "cell_type": "code",
      "source": [
        "error = []\n",
        "for i in range(1, 100): \n",
        "    classifier = KNeighborsClassifier(n_neighbors=i)\n",
        "    classifier.fit(x_train, y_train)\n",
        "    pred_i = classifier.predict(x_test)\n",
        "    error.append(np.mean(pred_i != y_test))\n",
        "    \n",
        "plt.figure(figsize=(16, 8)) \n",
        "plt.plot(range(1, 100), error, color='red', linestyle='dashed', marker='o', markerfacecolor='yellow', markersize=5)\n",
        "plt.title('Error Rate K Value') \n",
        "plt.xlabel('K Value') \n",
        "plt.ylabel('Mean Error')"
      ],
      "metadata": {
        "colab": {
          "base_uri": "https://localhost:8080/",
          "height": 530
        },
        "id": "N_iyTH-gNTT8",
        "outputId": "e29ebb59-7e11-439f-845a-6452197b4a2e"
      },
      "execution_count": 35,
      "outputs": [
        {
          "output_type": "execute_result",
          "data": {
            "text/plain": [
              "Text(0, 0.5, 'Mean Error')"
            ]
          },
          "metadata": {},
          "execution_count": 35
        },
        {
          "output_type": "display_data",
          "data": {
            "text/plain": [
              "<Figure size 1152x576 with 1 Axes>"
            ],
            "image/png": "[encoded data removed]"
          },
          "metadata": {
            "needs_background": "light"
          }
        }
      ]
    }
  ]
}