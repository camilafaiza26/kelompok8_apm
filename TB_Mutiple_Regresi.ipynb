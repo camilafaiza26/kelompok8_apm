{
  "nbformat": 4,
  "nbformat_minor": 0,
  "metadata": {
    "colab": {
      "name": "TB Mutiple Regresi.ipynb",
      "provenance": [],
      "authorship_tag": "ABX9TyNHIY+pcY3XKOM+mxhzGlMI",
      "include_colab_link": true
    },
    "kernelspec": {
      "name": "python3",
      "display_name": "Python 3"
    },
    "language_info": {
      "name": "python"
    }
  },
  "cells": [
    {
      "cell_type": "markdown",
      "metadata": {
        "id": "view-in-github",
        "colab_type": "text"
      },
      "source": [
        "<a href=\"https://colab.research.google.com/github/camilafaiza26/kelompok8_apm/blob/main/TB_Mutiple_Regresi.ipynb\" target=\"_parent\"><img src=\"https://colab.research.google.com/assets/colab-badge.svg\" alt=\"Open In Colab\"/></a>"
      ]
    },
    {
      "cell_type": "code",
      "execution_count": 8,
      "metadata": {
        "id": "7Ps5vDaTO09p"
      },
      "outputs": [],
      "source": [
        "#Import library\n",
        "import pandas as pd\n",
        "import numpy as np\n",
        "import matplotlib.pyplot as plt\n",
        "import seaborn as sns"
      ]
    },
    {
      "cell_type": "code",
      "source": [
        "#Membaca the dataset\n",
        "dataset = pd.read_csv(\"credit-card-fix.csv\")"
      ],
      "metadata": {
        "id": "H1K4BiyCl7me"
      },
      "execution_count": 9,
      "outputs": []
    },
    {
      "cell_type": "code",
      "source": [
        "#Menampilkan dataset baris awal\n",
        "dataset.head()"
      ],
      "metadata": {
        "colab": {
          "base_uri": "https://localhost:8080/",
          "height": 300
        },
        "id": "XTGwoqVnmx75",
        "outputId": "de0825d5-1d04-4d53-8978-b4d40d615894"
      },
      "execution_count": 10,
      "outputs": [
        {
          "output_type": "execute_result",
          "data": {
            "text/plain": [
              "         no_ktp         no_hp  age pendidikan_terakhir status_perkawinan  \\\n",
              "0  3.200000e+15  6.280000e+12   27                 SMA           Menikah   \n",
              "1  3.180000e+15  6.280000e+12   31                 SMA           Menikah   \n",
              "2  3.520000e+15  6.290000e+12   32             Diploma         JandaDuda   \n",
              "3  3.670000e+15  6.280000e+12   30                 SMA           Menikah   \n",
              "4  1.200000e+15  6.280000e+12   21                 SMA      BelumMenikah   \n",
              "\n",
              "  kepemilikan_tempat_tinggal jenis_kelamin waktu_kepemilikan_rumah  \\\n",
              "0              MilikKeluarga             F               6/28/2016   \n",
              "1              MilikKeluarga             M               6/28/2016   \n",
              "2               MilikSendiri             F               6/28/2016   \n",
              "3              MilikKeluarga             F               6/28/2016   \n",
              "4              MilikKeluarga             M               6/28/2016   \n",
              "\n",
              "   pendapatan_netto  jumlah_anak_dlm_tanggungan  ...  total_mutasi_credit_12  \\\n",
              "0          11000000                           0  ...                       0   \n",
              "1             75000                           2  ...               223720141   \n",
              "2          10000000                           0  ...                       0   \n",
              "3           9900000                           1  ...                       0   \n",
              "4           5000000                           1  ...                       0   \n",
              "\n",
              "   total_mutasi_deb_3  total_mutasi_deb_6  total_mutasi_deb_12  \\\n",
              "0            10884000            10884000                    0   \n",
              "1             7184460           223685020            223685020   \n",
              "2                   0                   0                    0   \n",
              "3             3323400             5161400                    0   \n",
              "4            15723500            44045056                    0   \n",
              "\n",
              "   financial_monthly_expense  financial_monthly_nett_income    score  grade  \\\n",
              "0                    4500000                        8000000  55.1439      6   \n",
              "1                    2000000                        5500000  29.6065      8   \n",
              "2                    1000000                        5650000  20.1649      9   \n",
              "3                    4000000                        4900000  68.1796      5   \n",
              "4                    1500000                        4500000  55.5508      6   \n",
              "\n",
              "   plafond  description  \n",
              "0  3700000      APPROVE  \n",
              "1        0       REJECT  \n",
              "2        0       REJECT  \n",
              "3  4550000      APPROVE  \n",
              "4  3700000      APPROVE  \n",
              "\n",
              "[5 rows x 28 columns]"
            ],
            "text/html": [
              "\n",
              "  <div id=\"df-8f8fb380-4303-4807-a3e6-3ecad35aca2d\">\n",
              "    <div class=\"colab-df-container\">\n",
              "      <div>\n",
              "<style scoped>\n",
              "    .dataframe tbody tr th:only-of-type {\n",
              "        vertical-align: middle;\n",
              "    }\n",
              "\n",
              "    .dataframe tbody tr th {\n",
              "        vertical-align: top;\n",
              "    }\n",
              "\n",
              "    .dataframe thead th {\n",
              "        text-align: right;\n",
              "    }\n",
              "</style>\n",
              "<table border=\"1\" class=\"dataframe\">\n",
              "  <thead>\n",
              "    <tr style=\"text-align: right;\">\n",
              "      <th></th>\n",
              "      <th>no_ktp</th>\n",
              "      <th>no_hp</th>\n",
              "      <th>age</th>\n",
              "      <th>pendidikan_terakhir</th>\n",
              "      <th>status_perkawinan</th>\n",
              "      <th>kepemilikan_tempat_tinggal</th>\n",
              "      <th>jenis_kelamin</th>\n",
              "      <th>waktu_kepemilikan_rumah</th>\n",
              "      <th>pendapatan_netto</th>\n",
              "      <th>jumlah_anak_dlm_tanggungan</th>\n",
              "      <th>...</th>\n",
              "      <th>total_mutasi_credit_12</th>\n",
              "      <th>total_mutasi_deb_3</th>\n",
              "      <th>total_mutasi_deb_6</th>\n",
              "      <th>total_mutasi_deb_12</th>\n",
              "      <th>financial_monthly_expense</th>\n",
              "      <th>financial_monthly_nett_income</th>\n",
              "      <th>score</th>\n",
              "      <th>grade</th>\n",
              "      <th>plafond</th>\n",
              "      <th>description</th>\n",
              "    </tr>\n",
              "  </thead>\n",
              "  <tbody>\n",
              "    <tr>\n",
              "      <th>0</th>\n",
              "      <td>3.200000e+15</td>\n",
              "      <td>6.280000e+12</td>\n",
              "      <td>27</td>\n",
              "      <td>SMA</td>\n",
              "      <td>Menikah</td>\n",
              "      <td>MilikKeluarga</td>\n",
              "      <td>F</td>\n",
              "      <td>6/28/2016</td>\n",
              "      <td>11000000</td>\n",
              "      <td>0</td>\n",
              "      <td>...</td>\n",
              "      <td>0</td>\n",
              "      <td>10884000</td>\n",
              "      <td>10884000</td>\n",
              "      <td>0</td>\n",
              "      <td>4500000</td>\n",
              "      <td>8000000</td>\n",
              "      <td>55.1439</td>\n",
              "      <td>6</td>\n",
              "      <td>3700000</td>\n",
              "      <td>APPROVE</td>\n",
              "    </tr>\n",
              "    <tr>\n",
              "      <th>1</th>\n",
              "      <td>3.180000e+15</td>\n",
              "      <td>6.280000e+12</td>\n",
              "      <td>31</td>\n",
              "      <td>SMA</td>\n",
              "      <td>Menikah</td>\n",
              "      <td>MilikKeluarga</td>\n",
              "      <td>M</td>\n",
              "      <td>6/28/2016</td>\n",
              "      <td>75000</td>\n",
              "      <td>2</td>\n",
              "      <td>...</td>\n",
              "      <td>223720141</td>\n",
              "      <td>7184460</td>\n",
              "      <td>223685020</td>\n",
              "      <td>223685020</td>\n",
              "      <td>2000000</td>\n",
              "      <td>5500000</td>\n",
              "      <td>29.6065</td>\n",
              "      <td>8</td>\n",
              "      <td>0</td>\n",
              "      <td>REJECT</td>\n",
              "    </tr>\n",
              "    <tr>\n",
              "      <th>2</th>\n",
              "      <td>3.520000e+15</td>\n",
              "      <td>6.290000e+12</td>\n",
              "      <td>32</td>\n",
              "      <td>Diploma</td>\n",
              "      <td>JandaDuda</td>\n",
              "      <td>MilikSendiri</td>\n",
              "      <td>F</td>\n",
              "      <td>6/28/2016</td>\n",
              "      <td>10000000</td>\n",
              "      <td>0</td>\n",
              "      <td>...</td>\n",
              "      <td>0</td>\n",
              "      <td>0</td>\n",
              "      <td>0</td>\n",
              "      <td>0</td>\n",
              "      <td>1000000</td>\n",
              "      <td>5650000</td>\n",
              "      <td>20.1649</td>\n",
              "      <td>9</td>\n",
              "      <td>0</td>\n",
              "      <td>REJECT</td>\n",
              "    </tr>\n",
              "    <tr>\n",
              "      <th>3</th>\n",
              "      <td>3.670000e+15</td>\n",
              "      <td>6.280000e+12</td>\n",
              "      <td>30</td>\n",
              "      <td>SMA</td>\n",
              "      <td>Menikah</td>\n",
              "      <td>MilikKeluarga</td>\n",
              "      <td>F</td>\n",
              "      <td>6/28/2016</td>\n",
              "      <td>9900000</td>\n",
              "      <td>1</td>\n",
              "      <td>...</td>\n",
              "      <td>0</td>\n",
              "      <td>3323400</td>\n",
              "      <td>5161400</td>\n",
              "      <td>0</td>\n",
              "      <td>4000000</td>\n",
              "      <td>4900000</td>\n",
              "      <td>68.1796</td>\n",
              "      <td>5</td>\n",
              "      <td>4550000</td>\n",
              "      <td>APPROVE</td>\n",
              "    </tr>\n",
              "    <tr>\n",
              "      <th>4</th>\n",
              "      <td>1.200000e+15</td>\n",
              "      <td>6.280000e+12</td>\n",
              "      <td>21</td>\n",
              "      <td>SMA</td>\n",
              "      <td>BelumMenikah</td>\n",
              "      <td>MilikKeluarga</td>\n",
              "      <td>M</td>\n",
              "      <td>6/28/2016</td>\n",
              "      <td>5000000</td>\n",
              "      <td>1</td>\n",
              "      <td>...</td>\n",
              "      <td>0</td>\n",
              "      <td>15723500</td>\n",
              "      <td>44045056</td>\n",
              "      <td>0</td>\n",
              "      <td>1500000</td>\n",
              "      <td>4500000</td>\n",
              "      <td>55.5508</td>\n",
              "      <td>6</td>\n",
              "      <td>3700000</td>\n",
              "      <td>APPROVE</td>\n",
              "    </tr>\n",
              "  </tbody>\n",
              "</table>\n",
              "<p>5 rows × 28 columns</p>\n",
              "</div>\n",
              "      <button class=\"colab-df-convert\" onclick=\"convertToInteractive('df-8f8fb380-4303-4807-a3e6-3ecad35aca2d')\"\n",
              "              title=\"Convert this dataframe to an interactive table.\"\n",
              "              style=\"display:none;\">\n",
              "        \n",
              "  <svg xmlns=\"http://www.w3.org/2000/svg\" height=\"24px\"viewBox=\"0 0 24 24\"\n",
              "       width=\"24px\">\n",
              "    <path d=\"M0 0h24v24H0V0z\" fill=\"none\"/>\n",
              "    <path d=\"M18.56 5.44l.94 2.06.94-2.06 2.06-.94-2.06-.94-.94-2.06-.94 2.06-2.06.94zm-11 1L8.5 8.5l.94-2.06 2.06-.94-2.06-.94L8.5 2.5l-.94 2.06-2.06.94zm10 10l.94 2.06.94-2.06 2.06-.94-2.06-.94-.94-2.06-.94 2.06-2.06.94z\"/><path d=\"M17.41 7.96l-1.37-1.37c-.4-.4-.92-.59-1.43-.59-.52 0-1.04.2-1.43.59L10.3 9.45l-7.72 7.72c-.78.78-.78 2.05 0 2.83L4 21.41c.39.39.9.59 1.41.59.51 0 1.02-.2 1.41-.59l7.78-7.78 2.81-2.81c.8-.78.8-2.07 0-2.86zM5.41 20L4 18.59l7.72-7.72 1.47 1.35L5.41 20z\"/>\n",
              "  </svg>\n",
              "      </button>\n",
              "      \n",
              "  <style>\n",
              "    .colab-df-container {\n",
              "      display:flex;\n",
              "      flex-wrap:wrap;\n",
              "      gap: 12px;\n",
              "    }\n",
              "\n",
              "    .colab-df-convert {\n",
              "      background-color: #E8F0FE;\n",
              "      border: none;\n",
              "      border-radius: 50%;\n",
              "      cursor: pointer;\n",
              "      display: none;\n",
              "      fill: #1967D2;\n",
              "      height: 32px;\n",
              "      padding: 0 0 0 0;\n",
              "      width: 32px;\n",
              "    }\n",
              "\n",
              "    .colab-df-convert:hover {\n",
              "      background-color: #E2EBFA;\n",
              "      box-shadow: 0px 1px 2px rgba(60, 64, 67, 0.3), 0px 1px 3px 1px rgba(60, 64, 67, 0.15);\n",
              "      fill: #174EA6;\n",
              "    }\n",
              "\n",
              "    [theme=dark] .colab-df-convert {\n",
              "      background-color: #3B4455;\n",
              "      fill: #D2E3FC;\n",
              "    }\n",
              "\n",
              "    [theme=dark] .colab-df-convert:hover {\n",
              "      background-color: #434B5C;\n",
              "      box-shadow: 0px 1px 3px 1px rgba(0, 0, 0, 0.15);\n",
              "      filter: drop-shadow(0px 1px 2px rgba(0, 0, 0, 0.3));\n",
              "      fill: #FFFFFF;\n",
              "    }\n",
              "  </style>\n",
              "\n",
              "      <script>\n",
              "        const buttonEl =\n",
              "          document.querySelector('#df-8f8fb380-4303-4807-a3e6-3ecad35aca2d button.colab-df-convert');\n",
              "        buttonEl.style.display =\n",
              "          google.colab.kernel.accessAllowed ? 'block' : 'none';\n",
              "\n",
              "        async function convertToInteractive(key) {\n",
              "          const element = document.querySelector('#df-8f8fb380-4303-4807-a3e6-3ecad35aca2d');\n",
              "          const dataTable =\n",
              "            await google.colab.kernel.invokeFunction('convertToInteractive',\n",
              "                                                     [key], {});\n",
              "          if (!dataTable) return;\n",
              "\n",
              "          const docLinkHtml = 'Like what you see? Visit the ' +\n",
              "            '<a target=\"_blank\" href=https://colab.research.google.com/notebooks/data_table.ipynb>data table notebook</a>'\n",
              "            + ' to learn more about interactive tables.';\n",
              "          element.innerHTML = '';\n",
              "          dataTable['output_type'] = 'display_data';\n",
              "          await google.colab.output.renderOutput(dataTable, element);\n",
              "          const docLink = document.createElement('div');\n",
              "          docLink.innerHTML = docLinkHtml;\n",
              "          element.appendChild(docLink);\n",
              "        }\n",
              "      </script>\n",
              "    </div>\n",
              "  </div>\n",
              "  "
            ]
          },
          "metadata": {},
          "execution_count": 10
        }
      ]
    },
    {
      "cell_type": "code",
      "source": [
        "#Menetapkan nilai untuk X dan Y\n",
        "x = dataset[ [   'freq_mutasi_credit_3',\t'freq_mutasi_credit_6',\t'freq_mutasi_credit_12','freq_mutasi_deb_3',\n",
        "                 'freq_mutasi_deb_6','freq_mutasi_deb_12',\n",
        "                 'total_mutasi_credit_3',\n",
        "                 'total_mutasi_credit_6',\n",
        "                 'total_mutasi_credit_12',\n",
        "                 'total_mutasi_deb_3',\n",
        "                 'total_mutasi_deb_6',\n",
        "                 'total_mutasi_deb_12',\n",
        "                 'financial_monthly_expense','financial_monthly_nett_income']]\n",
        "\n",
        "y = dataset['score']"
      ],
      "metadata": {
        "id": "p0qdsp_rm2Zy"
      },
      "execution_count": 11,
      "outputs": []
    },
    {
      "cell_type": "code",
      "source": [
        "#Splitting dataset\n",
        "from sklearn.model_selection import train_test_split\n",
        "x_train, x_test, y_train, y_test = train_test_split(x, y, test_size = 0.3, random_state = 100)"
      ],
      "metadata": {
        "id": "CQel9b3qnMjJ"
      },
      "execution_count": 12,
      "outputs": []
    },
    {
      "cell_type": "code",
      "source": [
        "#instal linear Regresi\n",
        "!pip install LinearRegression"
      ],
      "metadata": {
        "colab": {
          "base_uri": "https://localhost:8080/"
        },
        "id": "5qdRHA5jn5Kr",
        "outputId": "e7f08bbe-3a4c-42a2-dc41-34e7fc4a452d"
      },
      "execution_count": 13,
      "outputs": [
        {
          "output_type": "stream",
          "name": "stdout",
          "text": [
            "Looking in indexes: https://pypi.org/simple, https://us-python.pkg.dev/colab-wheels/public/simple/\n",
            "Requirement already satisfied: LinearRegression in /usr/local/lib/python3.7/dist-packages (0.0.1)\n"
          ]
        }
      ]
    },
    {
      "cell_type": "code",
      "source": [
        "#Fitting the Multiple Linear Regression model\n",
        "from sklearn.linear_model import LinearRegression\n",
        "mlr = LinearRegression()  \n",
        "mlr.fit(x_train, y_train)"
      ],
      "metadata": {
        "colab": {
          "base_uri": "https://localhost:8080/"
        },
        "id": "nWwr5L61n8jw",
        "outputId": "60f3188d-b24a-4b5d-ff0a-e7d9b9cf54f9"
      },
      "execution_count": 14,
      "outputs": [
        {
          "output_type": "execute_result",
          "data": {
            "text/plain": [
              "LinearRegression()"
            ]
          },
          "metadata": {},
          "execution_count": 14
        }
      ]
    },
    {
      "cell_type": "code",
      "source": [
        "#Intercept and Coefficient\n",
        "print(\"Intercept: \", mlr.intercept_)\n",
        "print(\"Coefficients:\")\n",
        "list(zip(x, mlr.coef_))"
      ],
      "metadata": {
        "colab": {
          "base_uri": "https://localhost:8080/"
        },
        "id": "kWo_hD6AoBhi",
        "outputId": "dc173938-af5d-4c7f-ee5b-a308c09640ad"
      },
      "execution_count": 15,
      "outputs": [
        {
          "output_type": "stream",
          "name": "stdout",
          "text": [
            "Intercept:  49.496500400784406\n",
            "Coefficients:\n"
          ]
        },
        {
          "output_type": "execute_result",
          "data": {
            "text/plain": [
              "[('freq_mutasi_credit_3', 0.0025122370392882325),\n",
              " ('freq_mutasi_credit_6', 0.0009440090095463756),\n",
              " ('freq_mutasi_credit_12', 0.00325144269549384),\n",
              " ('freq_mutasi_deb_3', 0.00649361483786867),\n",
              " ('freq_mutasi_deb_6', 0.0022283437387081136),\n",
              " ('freq_mutasi_deb_12', 0.0017982976059427442),\n",
              " ('total_mutasi_credit_3', -5.825043908596478e-11),\n",
              " ('total_mutasi_credit_6', -1.2721418042517963e-08),\n",
              " ('total_mutasi_credit_12', 7.909322428419205e-08),\n",
              " ('total_mutasi_deb_3', 1.2550459167477539e-09),\n",
              " ('total_mutasi_deb_6', 1.3438121779999878e-08),\n",
              " ('total_mutasi_deb_12', -7.887687546292836e-08),\n",
              " ('financial_monthly_expense', 9.006437063232195e-07),\n",
              " ('financial_monthly_nett_income', -2.9771106205211076e-07)]"
            ]
          },
          "metadata": {},
          "execution_count": 15
        }
      ]
    },
    {
      "cell_type": "code",
      "source": [
        "#Prediction of test set\n",
        "y_pred_mlr= mlr.predict(x_test)\n",
        "#Predicted values\n",
        "print(\"Prediction for test set: {}\".format(y_pred_mlr))"
      ],
      "metadata": {
        "colab": {
          "base_uri": "https://localhost:8080/"
        },
        "id": "eMRsiOJxoFTV",
        "outputId": "7e580fbe-e501-4e86-8c15-0e17d919c44b"
      },
      "execution_count": 16,
      "outputs": [
        {
          "output_type": "stream",
          "name": "stdout",
          "text": [
            "Prediction for test set: [53.65701165 53.2514606  49.95121305 ... 51.87949694 52.48401651\n",
            " 54.04516118]\n"
          ]
        }
      ]
    },
    {
      "cell_type": "code",
      "source": [
        "#Actual value and the predicted value\n",
        "mlr_diff = pd.DataFrame({'Actual value': y_test, 'Predicted value': y_pred_mlr})\n",
        "mlr_diff.head()"
      ],
      "metadata": {
        "colab": {
          "base_uri": "https://localhost:8080/",
          "height": 206
        },
        "id": "mp7bJwPRoJQH",
        "outputId": "1f865000-e09f-495b-aed2-9f3f9678a61b"
      },
      "execution_count": 17,
      "outputs": [
        {
          "output_type": "execute_result",
          "data": {
            "text/plain": [
              "       Actual value  Predicted value\n",
              "27376       43.7551        53.657012\n",
              "17351       47.2730        53.251461\n",
              "11470       69.3189        49.951213\n",
              "30164       34.6248        49.845082\n",
              "25633       57.3554        51.140452"
            ],
            "text/html": [
              "\n",
              "  <div id=\"df-544ffcab-6a0e-4493-b59f-a86f2dee1a88\">\n",
              "    <div class=\"colab-df-container\">\n",
              "      <div>\n",
              "<style scoped>\n",
              "    .dataframe tbody tr th:only-of-type {\n",
              "        vertical-align: middle;\n",
              "    }\n",
              "\n",
              "    .dataframe tbody tr th {\n",
              "        vertical-align: top;\n",
              "    }\n",
              "\n",
              "    .dataframe thead th {\n",
              "        text-align: right;\n",
              "    }\n",
              "</style>\n",
              "<table border=\"1\" class=\"dataframe\">\n",
              "  <thead>\n",
              "    <tr style=\"text-align: right;\">\n",
              "      <th></th>\n",
              "      <th>Actual value</th>\n",
              "      <th>Predicted value</th>\n",
              "    </tr>\n",
              "  </thead>\n",
              "  <tbody>\n",
              "    <tr>\n",
              "      <th>27376</th>\n",
              "      <td>43.7551</td>\n",
              "      <td>53.657012</td>\n",
              "    </tr>\n",
              "    <tr>\n",
              "      <th>17351</th>\n",
              "      <td>47.2730</td>\n",
              "      <td>53.251461</td>\n",
              "    </tr>\n",
              "    <tr>\n",
              "      <th>11470</th>\n",
              "      <td>69.3189</td>\n",
              "      <td>49.951213</td>\n",
              "    </tr>\n",
              "    <tr>\n",
              "      <th>30164</th>\n",
              "      <td>34.6248</td>\n",
              "      <td>49.845082</td>\n",
              "    </tr>\n",
              "    <tr>\n",
              "      <th>25633</th>\n",
              "      <td>57.3554</td>\n",
              "      <td>51.140452</td>\n",
              "    </tr>\n",
              "  </tbody>\n",
              "</table>\n",
              "</div>\n",
              "      <button class=\"colab-df-convert\" onclick=\"convertToInteractive('df-544ffcab-6a0e-4493-b59f-a86f2dee1a88')\"\n",
              "              title=\"Convert this dataframe to an interactive table.\"\n",
              "              style=\"display:none;\">\n",
              "        \n",
              "  <svg xmlns=\"http://www.w3.org/2000/svg\" height=\"24px\"viewBox=\"0 0 24 24\"\n",
              "       width=\"24px\">\n",
              "    <path d=\"M0 0h24v24H0V0z\" fill=\"none\"/>\n",
              "    <path d=\"M18.56 5.44l.94 2.06.94-2.06 2.06-.94-2.06-.94-.94-2.06-.94 2.06-2.06.94zm-11 1L8.5 8.5l.94-2.06 2.06-.94-2.06-.94L8.5 2.5l-.94 2.06-2.06.94zm10 10l.94 2.06.94-2.06 2.06-.94-2.06-.94-.94-2.06-.94 2.06-2.06.94z\"/><path d=\"M17.41 7.96l-1.37-1.37c-.4-.4-.92-.59-1.43-.59-.52 0-1.04.2-1.43.59L10.3 9.45l-7.72 7.72c-.78.78-.78 2.05 0 2.83L4 21.41c.39.39.9.59 1.41.59.51 0 1.02-.2 1.41-.59l7.78-7.78 2.81-2.81c.8-.78.8-2.07 0-2.86zM5.41 20L4 18.59l7.72-7.72 1.47 1.35L5.41 20z\"/>\n",
              "  </svg>\n",
              "      </button>\n",
              "      \n",
              "  <style>\n",
              "    .colab-df-container {\n",
              "      display:flex;\n",
              "      flex-wrap:wrap;\n",
              "      gap: 12px;\n",
              "    }\n",
              "\n",
              "    .colab-df-convert {\n",
              "      background-color: #E8F0FE;\n",
              "      border: none;\n",
              "      border-radius: 50%;\n",
              "      cursor: pointer;\n",
              "      display: none;\n",
              "      fill: #1967D2;\n",
              "      height: 32px;\n",
              "      padding: 0 0 0 0;\n",
              "      width: 32px;\n",
              "    }\n",
              "\n",
              "    .colab-df-convert:hover {\n",
              "      background-color: #E2EBFA;\n",
              "      box-shadow: 0px 1px 2px rgba(60, 64, 67, 0.3), 0px 1px 3px 1px rgba(60, 64, 67, 0.15);\n",
              "      fill: #174EA6;\n",
              "    }\n",
              "\n",
              "    [theme=dark] .colab-df-convert {\n",
              "      background-color: #3B4455;\n",
              "      fill: #D2E3FC;\n",
              "    }\n",
              "\n",
              "    [theme=dark] .colab-df-convert:hover {\n",
              "      background-color: #434B5C;\n",
              "      box-shadow: 0px 1px 3px 1px rgba(0, 0, 0, 0.15);\n",
              "      filter: drop-shadow(0px 1px 2px rgba(0, 0, 0, 0.3));\n",
              "      fill: #FFFFFF;\n",
              "    }\n",
              "  </style>\n",
              "\n",
              "      <script>\n",
              "        const buttonEl =\n",
              "          document.querySelector('#df-544ffcab-6a0e-4493-b59f-a86f2dee1a88 button.colab-df-convert');\n",
              "        buttonEl.style.display =\n",
              "          google.colab.kernel.accessAllowed ? 'block' : 'none';\n",
              "\n",
              "        async function convertToInteractive(key) {\n",
              "          const element = document.querySelector('#df-544ffcab-6a0e-4493-b59f-a86f2dee1a88');\n",
              "          const dataTable =\n",
              "            await google.colab.kernel.invokeFunction('convertToInteractive',\n",
              "                                                     [key], {});\n",
              "          if (!dataTable) return;\n",
              "\n",
              "          const docLinkHtml = 'Like what you see? Visit the ' +\n",
              "            '<a target=\"_blank\" href=https://colab.research.google.com/notebooks/data_table.ipynb>data table notebook</a>'\n",
              "            + ' to learn more about interactive tables.';\n",
              "          element.innerHTML = '';\n",
              "          dataTable['output_type'] = 'display_data';\n",
              "          await google.colab.output.renderOutput(dataTable, element);\n",
              "          const docLink = document.createElement('div');\n",
              "          docLink.innerHTML = docLinkHtml;\n",
              "          element.appendChild(docLink);\n",
              "        }\n",
              "      </script>\n",
              "    </div>\n",
              "  </div>\n",
              "  "
            ]
          },
          "metadata": {},
          "execution_count": 17
        }
      ]
    },
    {
      "cell_type": "code",
      "source": [
        "#Model Evaluation\n",
        "from sklearn import metrics\n",
        "meanAbErr = metrics.mean_absolute_error(y_test, y_pred_mlr)\n",
        "meanSqErr = metrics.mean_squared_error(y_test, y_pred_mlr)\n",
        "rootMeanSqErr = np.sqrt(metrics.mean_squared_error(y_test, y_pred_mlr))\n",
        "print('R squared: {:.2f}'.format(mlr.score(x,y)*100))\n",
        "print('Mean Absolute Error:', meanAbErr)\n",
        "print('Mean Square Error:', meanSqErr)\n",
        "print('Root Mean Square Error:', rootMeanSqErr)"
      ],
      "metadata": {
        "colab": {
          "base_uri": "https://localhost:8080/"
        },
        "id": "aFGoqxgHoNvP",
        "outputId": "2f574426-e605-4fdd-faf3-84950f5cb325"
      },
      "execution_count": 18,
      "outputs": [
        {
          "output_type": "stream",
          "name": "stdout",
          "text": [
            "R squared: 5.29\n",
            "Mean Absolute Error: 10.619597517858839\n",
            "Mean Square Error: 179.6279033121169\n",
            "Root Mean Square Error: 13.402533466181568\n"
          ]
        }
      ]
    },
    {
      "cell_type": "code",
      "source": [
        "#Grafil\n",
        "plt.figure(figsize=(15,10))\n",
        "plt.scatter(y_test,y_pred_mlr)\n",
        "plt.xlabel('Actual')\n",
        "plt.ylabel('Predicted')\n",
        "plt.title('Actual vs Predicted')"
      ],
      "metadata": {
        "colab": {
          "base_uri": "https://localhost:8080/",
          "height": 638
        },
        "id": "_XDe123soQth",
        "outputId": "cf18449a-e381-483a-abfb-556ce7a70486"
      },
      "execution_count": 19,
      "outputs": [
        {
          "output_type": "execute_result",
          "data": {
            "text/plain": [
              "Text(0.5, 1.0, 'Actual vs Predicted')"
            ]
          },
          "metadata": {},
          "execution_count": 19
        },
        {
          "output_type": "display_data",
          "data": {
            "text/plain": [
              "<Figure size 1080x720 with 1 Axes>"
            ],
            "image/png": "[encoded data removed]"
          },
          "metadata": {
            "needs_background": "light"
          }
        }
      ]
    }
  ]
}