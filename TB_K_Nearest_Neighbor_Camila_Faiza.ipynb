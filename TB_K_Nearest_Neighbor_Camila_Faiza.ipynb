{
  "nbformat": 4,
  "nbformat_minor": 0,
  "metadata": {
    "colab": {
      "name": "TB K-Nearest Neighbor_Camila Faiza.ipynb",
      "provenance": [],
      "authorship_tag": "ABX9TyNNeuHCK5Gv6VmuosVmzwhP",
      "include_colab_link": true
    },
    "kernelspec": {
      "name": "python3",
      "display_name": "Python 3"
    },
    "language_info": {
      "name": "python"
    }
  },
  "cells": [
    {
      "cell_type": "markdown",
      "metadata": {
        "id": "view-in-github",
        "colab_type": "text"
      },
      "source": [
        "<a href=\"https://colab.research.google.com/github/camilafaiza26/kelompok8_apm/blob/main/TB_K_Nearest_Neighbor_Camila_Faiza.ipynb\" target=\"_parent\"><img src=\"https://colab.research.google.com/assets/colab-badge.svg\" alt=\"Open In Colab\"/></a>"
      ]
    },
    {
      "cell_type": "code",
      "execution_count": 1,
      "metadata": {
        "id": "iDHcR5l0CiiL"
      },
      "outputs": [],
      "source": [
        "#K-Nearest Neighbor\n",
        "#import library\n",
        "import numpy as np\n",
        "import matplotlib.pyplot as plt\n",
        "import pandas as pd\n",
        "import numpy as np\n",
        "from sklearn import preprocessing\n",
        "%matplotlib inline"
      ]
    },
    {
      "cell_type": "code",
      "source": [
        "#Input Dataset\n",
        "df = pd.read_csv('credit-card-fix.csv')\n",
        "df.head()"
      ],
      "metadata": {
        "colab": {
          "base_uri": "https://localhost:8080/",
          "height": 300
        },
        "id": "oVElBrVWLJmm",
        "outputId": "51d86768-6ca0-461f-874e-2d9825d540f5"
      },
      "execution_count": 2,
      "outputs": [
        {
          "output_type": "execute_result",
          "data": {
            "text/plain": [
              "         no_ktp         no_hp  age pendidikan_terakhir status_perkawinan  \\\n",
              "0  3.200000e+15  6.280000e+12   27                 SMA           Menikah   \n",
              "1  3.180000e+15  6.280000e+12   31                 SMA           Menikah   \n",
              "2  3.520000e+15  6.290000e+12   32             Diploma         JandaDuda   \n",
              "3  3.670000e+15  6.280000e+12   30                 SMA           Menikah   \n",
              "4  1.200000e+15  6.280000e+12   21                 SMA      BelumMenikah   \n",
              "\n",
              "  kepemilikan_tempat_tinggal jenis_kelamin waktu_kepemilikan_rumah  \\\n",
              "0              MilikKeluarga             F               6/28/2016   \n",
              "1              MilikKeluarga             M               6/28/2016   \n",
              "2               MilikSendiri             F               6/28/2016   \n",
              "3              MilikKeluarga             F               6/28/2016   \n",
              "4              MilikKeluarga             M               6/28/2016   \n",
              "\n",
              "   pendapatan_netto  jumlah_anak_dlm_tanggungan  ...  total_mutasi_credit_12  \\\n",
              "0          11000000                           0  ...                       0   \n",
              "1             75000                           2  ...               223720141   \n",
              "2          10000000                           0  ...                       0   \n",
              "3           9900000                           1  ...                       0   \n",
              "4           5000000                           1  ...                       0   \n",
              "\n",
              "   total_mutasi_deb_3  total_mutasi_deb_6  total_mutasi_deb_12  \\\n",
              "0            10884000            10884000                    0   \n",
              "1             7184460           223685020            223685020   \n",
              "2                   0                   0                    0   \n",
              "3             3323400             5161400                    0   \n",
              "4            15723500            44045056                    0   \n",
              "\n",
              "   financial_monthly_expense  financial_monthly_nett_income    score  grade  \\\n",
              "0                    4500000                        8000000  55.1439    6.0   \n",
              "1                    2000000                        5500000  29.6065    8.0   \n",
              "2                    1000000                        5650000  20.1649    9.0   \n",
              "3                    4000000                        4900000  68.1796    5.0   \n",
              "4                    1500000                        4500000  55.5508    6.0   \n",
              "\n",
              "     plafond  description  \n",
              "0  3700000.0      APPROVE  \n",
              "1        0.0       REJECT  \n",
              "2        0.0       REJECT  \n",
              "3  4550000.0      APPROVE  \n",
              "4  3700000.0      APPROVE  \n",
              "\n",
              "[5 rows x 28 columns]"
            ],
            "text/html": [
              "\n",
              "  <div id=\"df-b158e0c8-b1cd-40b0-b240-4dfa578e43d8\">\n",
              "    <div class=\"colab-df-container\">\n",
              "      <div>\n",
              "<style scoped>\n",
              "    .dataframe tbody tr th:only-of-type {\n",
              "        vertical-align: middle;\n",
              "    }\n",
              "\n",
              "    .dataframe tbody tr th {\n",
              "        vertical-align: top;\n",
              "    }\n",
              "\n",
              "    .dataframe thead th {\n",
              "        text-align: right;\n",
              "    }\n",
              "</style>\n",
              "<table border=\"1\" class=\"dataframe\">\n",
              "  <thead>\n",
              "    <tr style=\"text-align: right;\">\n",
              "      <th></th>\n",
              "      <th>no_ktp</th>\n",
              "      <th>no_hp</th>\n",
              "      <th>age</th>\n",
              "      <th>pendidikan_terakhir</th>\n",
              "      <th>status_perkawinan</th>\n",
              "      <th>kepemilikan_tempat_tinggal</th>\n",
              "      <th>jenis_kelamin</th>\n",
              "      <th>waktu_kepemilikan_rumah</th>\n",
              "      <th>pendapatan_netto</th>\n",
              "      <th>jumlah_anak_dlm_tanggungan</th>\n",
              "      <th>...</th>\n",
              "      <th>total_mutasi_credit_12</th>\n",
              "      <th>total_mutasi_deb_3</th>\n",
              "      <th>total_mutasi_deb_6</th>\n",
              "      <th>total_mutasi_deb_12</th>\n",
              "      <th>financial_monthly_expense</th>\n",
              "      <th>financial_monthly_nett_income</th>\n",
              "      <th>score</th>\n",
              "      <th>grade</th>\n",
              "      <th>plafond</th>\n",
              "      <th>description</th>\n",
              "    </tr>\n",
              "  </thead>\n",
              "  <tbody>\n",
              "    <tr>\n",
              "      <th>0</th>\n",
              "      <td>3.200000e+15</td>\n",
              "      <td>6.280000e+12</td>\n",
              "      <td>27</td>\n",
              "      <td>SMA</td>\n",
              "      <td>Menikah</td>\n",
              "      <td>MilikKeluarga</td>\n",
              "      <td>F</td>\n",
              "      <td>6/28/2016</td>\n",
              "      <td>11000000</td>\n",
              "      <td>0</td>\n",
              "      <td>...</td>\n",
              "      <td>0</td>\n",
              "      <td>10884000</td>\n",
              "      <td>10884000</td>\n",
              "      <td>0</td>\n",
              "      <td>4500000</td>\n",
              "      <td>8000000</td>\n",
              "      <td>55.1439</td>\n",
              "      <td>6.0</td>\n",
              "      <td>3700000.0</td>\n",
              "      <td>APPROVE</td>\n",
              "    </tr>\n",
              "    <tr>\n",
              "      <th>1</th>\n",
              "      <td>3.180000e+15</td>\n",
              "      <td>6.280000e+12</td>\n",
              "      <td>31</td>\n",
              "      <td>SMA</td>\n",
              "      <td>Menikah</td>\n",
              "      <td>MilikKeluarga</td>\n",
              "      <td>M</td>\n",
              "      <td>6/28/2016</td>\n",
              "      <td>75000</td>\n",
              "      <td>2</td>\n",
              "      <td>...</td>\n",
              "      <td>223720141</td>\n",
              "      <td>7184460</td>\n",
              "      <td>223685020</td>\n",
              "      <td>223685020</td>\n",
              "      <td>2000000</td>\n",
              "      <td>5500000</td>\n",
              "      <td>29.6065</td>\n",
              "      <td>8.0</td>\n",
              "      <td>0.0</td>\n",
              "      <td>REJECT</td>\n",
              "    </tr>\n",
              "    <tr>\n",
              "      <th>2</th>\n",
              "      <td>3.520000e+15</td>\n",
              "      <td>6.290000e+12</td>\n",
              "      <td>32</td>\n",
              "      <td>Diploma</td>\n",
              "      <td>JandaDuda</td>\n",
              "      <td>MilikSendiri</td>\n",
              "      <td>F</td>\n",
              "      <td>6/28/2016</td>\n",
              "      <td>10000000</td>\n",
              "      <td>0</td>\n",
              "      <td>...</td>\n",
              "      <td>0</td>\n",
              "      <td>0</td>\n",
              "      <td>0</td>\n",
              "      <td>0</td>\n",
              "      <td>1000000</td>\n",
              "      <td>5650000</td>\n",
              "      <td>20.1649</td>\n",
              "      <td>9.0</td>\n",
              "      <td>0.0</td>\n",
              "      <td>REJECT</td>\n",
              "    </tr>\n",
              "    <tr>\n",
              "      <th>3</th>\n",
              "      <td>3.670000e+15</td>\n",
              "      <td>6.280000e+12</td>\n",
              "      <td>30</td>\n",
              "      <td>SMA</td>\n",
              "      <td>Menikah</td>\n",
              "      <td>MilikKeluarga</td>\n",
              "      <td>F</td>\n",
              "      <td>6/28/2016</td>\n",
              "      <td>9900000</td>\n",
              "      <td>1</td>\n",
              "      <td>...</td>\n",
              "      <td>0</td>\n",
              "      <td>3323400</td>\n",
              "      <td>5161400</td>\n",
              "      <td>0</td>\n",
              "      <td>4000000</td>\n",
              "      <td>4900000</td>\n",
              "      <td>68.1796</td>\n",
              "      <td>5.0</td>\n",
              "      <td>4550000.0</td>\n",
              "      <td>APPROVE</td>\n",
              "    </tr>\n",
              "    <tr>\n",
              "      <th>4</th>\n",
              "      <td>1.200000e+15</td>\n",
              "      <td>6.280000e+12</td>\n",
              "      <td>21</td>\n",
              "      <td>SMA</td>\n",
              "      <td>BelumMenikah</td>\n",
              "      <td>MilikKeluarga</td>\n",
              "      <td>M</td>\n",
              "      <td>6/28/2016</td>\n",
              "      <td>5000000</td>\n",
              "      <td>1</td>\n",
              "      <td>...</td>\n",
              "      <td>0</td>\n",
              "      <td>15723500</td>\n",
              "      <td>44045056</td>\n",
              "      <td>0</td>\n",
              "      <td>1500000</td>\n",
              "      <td>4500000</td>\n",
              "      <td>55.5508</td>\n",
              "      <td>6.0</td>\n",
              "      <td>3700000.0</td>\n",
              "      <td>APPROVE</td>\n",
              "    </tr>\n",
              "  </tbody>\n",
              "</table>\n",
              "<p>5 rows × 28 columns</p>\n",
              "</div>\n",
              "      <button class=\"colab-df-convert\" onclick=\"convertToInteractive('df-b158e0c8-b1cd-40b0-b240-4dfa578e43d8')\"\n",
              "              title=\"Convert this dataframe to an interactive table.\"\n",
              "              style=\"display:none;\">\n",
              "        \n",
              "  <svg xmlns=\"http://www.w3.org/2000/svg\" height=\"24px\"viewBox=\"0 0 24 24\"\n",
              "       width=\"24px\">\n",
              "    <path d=\"M0 0h24v24H0V0z\" fill=\"none\"/>\n",
              "    <path d=\"M18.56 5.44l.94 2.06.94-2.06 2.06-.94-2.06-.94-.94-2.06-.94 2.06-2.06.94zm-11 1L8.5 8.5l.94-2.06 2.06-.94-2.06-.94L8.5 2.5l-.94 2.06-2.06.94zm10 10l.94 2.06.94-2.06 2.06-.94-2.06-.94-.94-2.06-.94 2.06-2.06.94z\"/><path d=\"M17.41 7.96l-1.37-1.37c-.4-.4-.92-.59-1.43-.59-.52 0-1.04.2-1.43.59L10.3 9.45l-7.72 7.72c-.78.78-.78 2.05 0 2.83L4 21.41c.39.39.9.59 1.41.59.51 0 1.02-.2 1.41-.59l7.78-7.78 2.81-2.81c.8-.78.8-2.07 0-2.86zM5.41 20L4 18.59l7.72-7.72 1.47 1.35L5.41 20z\"/>\n",
              "  </svg>\n",
              "      </button>\n",
              "      \n",
              "  <style>\n",
              "    .colab-df-container {\n",
              "      display:flex;\n",
              "      flex-wrap:wrap;\n",
              "      gap: 12px;\n",
              "    }\n",
              "\n",
              "    .colab-df-convert {\n",
              "      background-color: #E8F0FE;\n",
              "      border: none;\n",
              "      border-radius: 50%;\n",
              "      cursor: pointer;\n",
              "      display: none;\n",
              "      fill: #1967D2;\n",
              "      height: 32px;\n",
              "      padding: 0 0 0 0;\n",
              "      width: 32px;\n",
              "    }\n",
              "\n",
              "    .colab-df-convert:hover {\n",
              "      background-color: #E2EBFA;\n",
              "      box-shadow: 0px 1px 2px rgba(60, 64, 67, 0.3), 0px 1px 3px 1px rgba(60, 64, 67, 0.15);\n",
              "      fill: #174EA6;\n",
              "    }\n",
              "\n",
              "    [theme=dark] .colab-df-convert {\n",
              "      background-color: #3B4455;\n",
              "      fill: #D2E3FC;\n",
              "    }\n",
              "\n",
              "    [theme=dark] .colab-df-convert:hover {\n",
              "      background-color: #434B5C;\n",
              "      box-shadow: 0px 1px 3px 1px rgba(0, 0, 0, 0.15);\n",
              "      filter: drop-shadow(0px 1px 2px rgba(0, 0, 0, 0.3));\n",
              "      fill: #FFFFFF;\n",
              "    }\n",
              "  </style>\n",
              "\n",
              "      <script>\n",
              "        const buttonEl =\n",
              "          document.querySelector('#df-b158e0c8-b1cd-40b0-b240-4dfa578e43d8 button.colab-df-convert');\n",
              "        buttonEl.style.display =\n",
              "          google.colab.kernel.accessAllowed ? 'block' : 'none';\n",
              "\n",
              "        async function convertToInteractive(key) {\n",
              "          const element = document.querySelector('#df-b158e0c8-b1cd-40b0-b240-4dfa578e43d8');\n",
              "          const dataTable =\n",
              "            await google.colab.kernel.invokeFunction('convertToInteractive',\n",
              "                                                     [key], {});\n",
              "          if (!dataTable) return;\n",
              "\n",
              "          const docLinkHtml = 'Like what you see? Visit the ' +\n",
              "            '<a target=\"_blank\" href=https://colab.research.google.com/notebooks/data_table.ipynb>data table notebook</a>'\n",
              "            + ' to learn more about interactive tables.';\n",
              "          element.innerHTML = '';\n",
              "          dataTable['output_type'] = 'display_data';\n",
              "          await google.colab.output.renderOutput(dataTable, element);\n",
              "          const docLink = document.createElement('div');\n",
              "          docLink.innerHTML = docLinkHtml;\n",
              "          element.appendChild(docLink);\n",
              "        }\n",
              "      </script>\n",
              "    </div>\n",
              "  </div>\n",
              "  "
            ]
          },
          "metadata": {},
          "execution_count": 2
        }
      ]
    },
    {
      "cell_type": "code",
      "source": [
        "from sklearn.preprocessing import LabelEncoder"
      ],
      "metadata": {
        "id": "in6lUV-oiyGd"
      },
      "execution_count": 3,
      "outputs": []
    },
    {
      "cell_type": "code",
      "source": [
        "Le = LabelEncoder()"
      ],
      "metadata": {
        "id": "PQ2ISEmzix_a"
      },
      "execution_count": 4,
      "outputs": []
    },
    {
      "cell_type": "code",
      "source": [
        "df['pendidikan_terakhir'] = Le.fit_transform(df['pendidikan_terakhir'])\n",
        "df['kepemilikan_tempat_tinggal'] = Le.fit_transform(df['kepemilikan_tempat_tinggal'])\n",
        "df['status_perkawinan'] = Le.fit_transform(df['status_perkawinan'])\n",
        "df['jenis_kelamin'] = Le.fit_transform(df['jenis_kelamin'])\n",
        "df['description'] = Le.fit_transform(df['description'])"
      ],
      "metadata": {
        "id": "dugsHOnWixz5"
      },
      "execution_count": 5,
      "outputs": []
    },
    {
      "cell_type": "code",
      "source": [
        "# #menentukan variabel independen (feature)\n",
        "x = df[ ['kepemilikan_tempat_tinggal','status_perkawinan','pendapatan_netto','jumlah_anak_dlm_tanggungan',\n",
        "                 'freq_mutasi_credit_3',\t'freq_mutasi_credit_6',\t'freq_mutasi_credit_12','freq_mutasi_deb_3',\n",
        "                 'freq_mutasi_deb_6','freq_mutasi_deb_12',\n",
        "                 'total_mutasi_credit_3',\n",
        "                 'total_mutasi_credit_6',\n",
        "                 'total_mutasi_credit_12',\n",
        "                 'total_mutasi_deb_3',\n",
        "                 'total_mutasi_deb_6',\n",
        "                 'total_mutasi_deb_12',\n",
        "                 'financial_monthly_expense','financial_monthly_nett_income']]\n",
        "\n",
        "# #menentukan variabel dependen (class)\n",
        "y = df[\"description\"]"
      ],
      "metadata": {
        "id": "vkTgiluoLqXF"
      },
      "execution_count": 6,
      "outputs": []
    },
    {
      "cell_type": "code",
      "source": [
        "# membagi dataset menjadi data train dan data test\n",
        "\n",
        "# import package model selection dari Sklearn train_test_split untuk membagi data\n",
        "from sklearn.model_selection import train_test_split\n",
        "\n",
        "# membagi data dengan perbandingan data train dan data test 80%:20%\n",
        "x_train, x_test, y_train, y_test = train_test_split(x, y, test_size=0.2)"
      ],
      "metadata": {
        "id": "jd1E4UR1NEjA"
      },
      "execution_count": 7,
      "outputs": []
    },
    {
      "cell_type": "code",
      "source": [
        "# lakukan standarisasi \n",
        "# (penskalaan pada data, karena range nilai data antar data feature terlalu jauh)\n",
        "\n",
        "#mengaktifkan package sklearn.preprocessing untuk membantu melakukan standarisasi data\n",
        "from sklearn.preprocessing import StandardScaler\n",
        "\n",
        "#membuat objek standarisasi\n",
        "standard_scaler = StandardScaler()\n",
        "\n",
        "# fit digunakan untuk menghitung nilai rataan dan standar deviasi untuk digunakan saat proses scaling.\n",
        "# transform untuk menerapkan nilai fit pada data\n",
        "standard_scaler.fit(x_train)  # melakukan perhitungan nilai rataan dan standar deviasi pada data x_train\n",
        "\n",
        "#menerapkan nilai rataan dan standar deviasi untuk penskalaan data x_train dan x_test\n",
        "x_train = standard_scaler.transform(x_train)\n",
        "x_test = standard_scaler.transform(x_test)"
      ],
      "metadata": {
        "id": "F1yhO41VNFjP"
      },
      "execution_count": 8,
      "outputs": []
    },
    {
      "cell_type": "code",
      "source": [
        "# K-Nearest Neighbor(KNN) untuk classifier data\n",
        "\n",
        "# import library\n",
        "from sklearn.neighbors import KNeighborsClassifier\n",
        "\n",
        "#membuat objek fungsi kalsifikasi untuk KNN\n",
        "#mengklasifikasikan x training dan y training menjadi 4, sehingga terdapat syntax n_neighbors=4\n",
        "knn = KNeighborsClassifier(n_neighbors=15)\n",
        "#memasukkan data train pada objek fungsi klasifikasi KNN\n",
        "knn.fit(x_train, y_train)"
      ],
      "metadata": {
        "colab": {
          "base_uri": "https://localhost:8080/"
        },
        "id": "hSqilIMWNJgx",
        "outputId": "3ca4d8b4-5755-41cd-8570-35912ca88b24"
      },
      "execution_count": 9,
      "outputs": [
        {
          "output_type": "execute_result",
          "data": {
            "text/plain": [
              "KNeighborsClassifier(n_neighbors=15)"
            ]
          },
          "metadata": {},
          "execution_count": 9
        }
      ]
    },
    {
      "cell_type": "code",
      "source": [
        "# Menentukan prediksi KKN dari data test (data aktual)\n",
        "y_predict = knn.predict(x_test)\n",
        "y_predict"
      ],
      "metadata": {
        "colab": {
          "base_uri": "https://localhost:8080/"
        },
        "id": "zxwecivlNOc5",
        "outputId": "c0ba8810-feb4-461d-a91e-f42898361dfd"
      },
      "execution_count": 10,
      "outputs": [
        {
          "output_type": "execute_result",
          "data": {
            "text/plain": [
              "array([0, 0, 0, ..., 0, 1, 1])"
            ]
          },
          "metadata": {},
          "execution_count": 10
        }
      ]
    },
    {
      "cell_type": "code",
      "source": [
        "# melihat akurasi data hasil prediksi dengan data aktual\n",
        "# classification_report digunakan untuk membuat report ttg metriks kalsifikasi\n",
        "# confusion_matrix merupakan matriks untuk menghitung akurasi dari nilai prediksi dan aktual\n",
        "from sklearn.metrics import classification_report, confusion_matrix\n",
        "from sklearn import metrics #untuk perhitungan akurasi model\n",
        "\n",
        "#menampilkan matriks hasil prediksi\n",
        "print(confusion_matrix(y_test, y_predict))\n",
        "\n",
        "#menampilkan report akurasi hasil prediksi\n",
        "print(classification_report(y_test, y_predict))\n",
        "\n",
        "#membuat summary akurasi model\n",
        "print(\"Accuracy:\",metrics.accuracy_score(y_test, y_predict))"
      ],
      "metadata": {
        "colab": {
          "base_uri": "https://localhost:8080/"
        },
        "id": "ubafEST5LvqP",
        "outputId": "57af2f02-045c-4a70-94a9-0a536d201e3e"
      },
      "execution_count": 11,
      "outputs": [
        {
          "output_type": "stream",
          "name": "stdout",
          "text": [
            "[[4903  176]\n",
            " [ 911  316]]\n",
            "              precision    recall  f1-score   support\n",
            "\n",
            "           0       0.84      0.97      0.90      5079\n",
            "           1       0.64      0.26      0.37      1227\n",
            "\n",
            "    accuracy                           0.83      6306\n",
            "   macro avg       0.74      0.61      0.63      6306\n",
            "weighted avg       0.80      0.83      0.80      6306\n",
            "\n",
            "Accuracy: 0.8276244846178243\n"
          ]
        }
      ]
    },
    {
      "cell_type": "code",
      "source": [
        "error = []\n",
        "for i in range(1, 100): \n",
        "    classifier = KNeighborsClassifier(n_neighbors=i)\n",
        "    classifier.fit(x_train, y_train)\n",
        "    pred_i = classifier.predict(x_test)\n",
        "    error.append(np.mean(pred_i != y_test))\n",
        "    \n",
        "plt.figure(figsize=(16, 8)) \n",
        "plt.plot(range(1, 100), error, color='red', linestyle='dashed', marker='o', markerfacecolor='yellow', markersize=5)\n",
        "plt.title('Error Rate K Value') \n",
        "plt.xlabel('K Value') \n",
        "plt.ylabel('Mean Error')"
      ],
      "metadata": {
        "colab": {
          "base_uri": "https://localhost:8080/",
          "height": 530
        },
        "id": "N_iyTH-gNTT8",
        "outputId": "2335035e-6f94-4af8-aa08-21d797a28345"
      },
      "execution_count": 12,
      "outputs": [
        {
          "output_type": "execute_result",
          "data": {
            "text/plain": [
              "Text(0, 0.5, 'Mean Error')"
            ]
          },
          "metadata": {},
          "execution_count": 12
        },
        {
          "output_type": "display_data",
          "data": {
            "text/plain": [
              "<Figure size 1152x576 with 1 Axes>"
            ],
            "image/png": "[encoded data removed]"
          },
          "metadata": {
            "needs_background": "light"
          }
        }
      ]
    }
  ]
}